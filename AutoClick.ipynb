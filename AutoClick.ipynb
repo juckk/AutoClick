{
 "cells": [
  {
   "cell_type": "code",
   "execution_count": 72,
   "id": "ad2b98ee",
   "metadata": {},
   "outputs": [
    {
     "name": "stdout",
     "output_type": "stream",
     "text": [
      "Done!\n"
     ]
    }
   ],
   "source": [
    "!pip install -U selenium -q\n",
    "!pip install webdriver-manager -q\n",
    "print (\"Done!\")"
   ]
  },
  {
   "cell_type": "markdown",
   "id": "bcdcb7c8",
   "metadata": {},
   "source": [
    "RUN CHROME"
   ]
  },
  {
   "cell_type": "code",
   "execution_count": 73,
   "id": "2893aada",
   "metadata": {},
   "outputs": [],
   "source": [
    "import winsound\n",
    "from selenium import webdriver\n",
    "from selenium.webdriver.chrome.service import Service\n",
    "from webdriver_manager.chrome import ChromeDriverManager\n",
    "from selenium.webdriver.common.by import By\n",
    "from selenium.webdriver.support.ui import WebDriverWait\n",
    "from selenium.webdriver.support import expected_conditions as EC\n",
    "from selenium.webdriver.common.keys import Keys\n",
    "driver = webdriver.Chrome(service=Service(ChromeDriverManager().install()))"
   ]
  },
  {
   "cell_type": "code",
   "execution_count": 74,
   "id": "f4adc862",
   "metadata": {},
   "outputs": [],
   "source": [
    "driver.get('https://zocialeye.wisesight.com/campaigns')"
   ]
  },
  {
   "cell_type": "code",
   "execution_count": 75,
   "id": "613eb2e5",
   "metadata": {},
   "outputs": [],
   "source": [
    "Username = driver.find_element(By.XPATH,'/html/body/div/form/div[2]/input').send_keys('********')"
   ]
  },
  {
   "cell_type": "code",
   "execution_count": 76,
   "id": "1fb0ffc0",
   "metadata": {},
   "outputs": [],
   "source": [
    "Password = driver.find_element(By.XPATH,'/html/body/div/form/div[3]/input').send_keys('*********')"
   ]
  },
  {
   "cell_type": "code",
   "execution_count": 77,
   "id": "c1268a71",
   "metadata": {},
   "outputs": [],
   "source": [
    "Login = driver.find_element(By.XPATH,'/html/body/div/form/div[4]/button/div[2]').click()"
   ]
  },
  {
   "cell_type": "markdown",
   "id": "3cca6977",
   "metadata": {},
   "source": [
    "Search Ch3"
   ]
  },
  {
   "cell_type": "code",
   "execution_count": 78,
   "id": "1758a738",
   "metadata": {},
   "outputs": [],
   "source": [
    "Search = driver.find_element(By.XPATH,'/html/body/div/div[1]/div[19]/div[1]/div/form/input[1]')"
   ]
  },
  {
   "cell_type": "code",
   "execution_count": 79,
   "id": "0bdf2d23",
   "metadata": {},
   "outputs": [],
   "source": [
    "Search.send_keys('70244')"
   ]
  },
  {
   "cell_type": "code",
   "execution_count": 80,
   "id": "f9f68855",
   "metadata": {},
   "outputs": [],
   "source": [
    "Search.send_keys(Keys.ENTER)"
   ]
  },
  {
   "cell_type": "code",
   "execution_count": 81,
   "id": "870a754f",
   "metadata": {},
   "outputs": [],
   "source": [
    "ClickCamp = driver.find_element(By.XPATH,'/html/body/div/div[1]/div[19]/div[2]/table/tbody/tr/td[2]/a').click()"
   ]
  },
  {
   "cell_type": "markdown",
   "id": "81271a3a",
   "metadata": {},
   "source": [
    "START AUTO CLICK"
   ]
  },
  {
   "cell_type": "code",
   "execution_count": 87,
   "id": "5ef78b63",
   "metadata": {},
   "outputs": [
    {
     "name": "stdout",
     "output_type": "stream",
     "text": [
      "190\n"
     ]
    }
   ],
   "source": [
    "Content = len(driver.find_elements(By.LINK_TEXT,'Track this post'))\n",
    "Content = Content*2\n",
    "print(Content)"
   ]
  },
  {
   "cell_type": "code",
   "execution_count": 102,
   "id": "0f48c06a",
   "metadata": {
    "scrolled": true
   },
   "outputs": [
    {
     "name": "stdout",
     "output_type": "stream",
     "text": [
      "200\n",
      "Done!\n"
     ]
    }
   ],
   "source": [
    "Content = len(driver.find_elements(By.LINK_TEXT,'Track this post'))\n",
    "Content = Content*2\n",
    "print(Content)\n",
    "for clickNum in range(1,Content):\n",
    "    # this below explicit wait will make sure the script will wait max 30 sec for the next user to be clicked\n",
    "    Track = WebDriverWait(driver,0.05).until(EC.presence_of_element_located((By.LINK_TEXT,'Track this post')))\n",
    "    # scroll user into view\n",
    "    Track.location_once_scrolled_into_view\n",
    "    # click on user\n",
    "    driver.execute_script(\"arguments[0].click();\", Track)\n",
    "print(\"Done!\")\n",
    "winsound.Beep(1000, 500)"
   ]
  },
  {
   "cell_type": "markdown",
   "id": "2c566ba2",
   "metadata": {},
   "source": [
    "Search Ch8"
   ]
  },
  {
   "cell_type": "code",
   "execution_count": 29,
   "id": "0caac67e",
   "metadata": {},
   "outputs": [],
   "source": [
    "driver.get('https://zocialeye.wisesight.com/campaigns')"
   ]
  },
  {
   "cell_type": "code",
   "execution_count": 19,
   "id": "2a8eb5c4",
   "metadata": {},
   "outputs": [],
   "source": [
    "Search = driver.find_element(By.XPATH,'/html/body/div/div[1]/div[19]/div[1]/div/form/input[1]')"
   ]
  },
  {
   "cell_type": "code",
   "execution_count": 20,
   "id": "1705385b",
   "metadata": {},
   "outputs": [],
   "source": [
    "Search.send_keys('เวราอาฆาต')"
   ]
  },
  {
   "cell_type": "code",
   "execution_count": 21,
   "id": "33aaf90a",
   "metadata": {},
   "outputs": [],
   "source": [
    "Search.send_keys(Keys.ENTER)"
   ]
  },
  {
   "cell_type": "code",
   "execution_count": 22,
   "id": "8cde87a1",
   "metadata": {},
   "outputs": [],
   "source": [
    "ClickCamp = driver.find_element(By.XPATH,'/html/body/div/div[1]/div[19]/div[2]/table/tbody/tr/td[2]/a').click()"
   ]
  },
  {
   "cell_type": "code",
   "execution_count": 23,
   "id": "4ba8e403",
   "metadata": {},
   "outputs": [
    {
     "name": "stdout",
     "output_type": "stream",
     "text": [
      "44\n"
     ]
    }
   ],
   "source": [
    "Content = len(driver.find_elements(By.LINK_TEXT,'Track this post'))\n",
    "print(Content)"
   ]
  },
  {
   "cell_type": "code",
   "execution_count": 27,
   "id": "900cf7df",
   "metadata": {},
   "outputs": [
    {
     "ename": "TimeoutException",
     "evalue": "Message: \nStacktrace:\nBacktrace:\n\tOrdinal0 [0x00BD1ED3+2236115]\n\tOrdinal0 [0x00B692F1+1807089]\n\tOrdinal0 [0x00A766FD+812797]\n\tOrdinal0 [0x00AA55DF+1005023]\n\tOrdinal0 [0x00AA57CB+1005515]\n\tOrdinal0 [0x00AD7632+1209906]\n\tOrdinal0 [0x00AC1AD4+1120980]\n\tOrdinal0 [0x00AD59E2+1202658]\n\tOrdinal0 [0x00AC18A6+1120422]\n\tOrdinal0 [0x00A9A73D+960317]\n\tOrdinal0 [0x00A9B71F+964383]\n\tGetHandleVerifier [0x00E7E7E2+2743074]\n\tGetHandleVerifier [0x00E708D4+2685972]\n\tGetHandleVerifier [0x00C62BAA+532202]\n\tGetHandleVerifier [0x00C61990+527568]\n\tOrdinal0 [0x00B7080C+1837068]\n\tOrdinal0 [0x00B74CD8+1854680]\n\tOrdinal0 [0x00B74DC5+1854917]\n\tOrdinal0 [0x00B7ED64+1895780]\n\tBaseThreadInitThunk [0x758FFA29+25]\n\tRtlGetAppContainerNamedObjectPath [0x77387BBE+286]\n\tRtlGetAppContainerNamedObjectPath [0x77387B8E+238]\n",
     "output_type": "error",
     "traceback": [
      "\u001b[1;31m---------------------------------------------------------------------------\u001b[0m",
      "\u001b[1;31mTimeoutException\u001b[0m                          Traceback (most recent call last)",
      "Input \u001b[1;32mIn [27]\u001b[0m, in \u001b[0;36m<cell line: 1>\u001b[1;34m()\u001b[0m\n\u001b[0;32m      1\u001b[0m \u001b[38;5;28;01mfor\u001b[39;00m clickNum \u001b[38;5;129;01min\u001b[39;00m \u001b[38;5;28mrange\u001b[39m(\u001b[38;5;241m1\u001b[39m,\u001b[38;5;241m120\u001b[39m):\n\u001b[0;32m      2\u001b[0m     \u001b[38;5;66;03m# this below explicit wait will make sure the script will wait max 30 sec for the next user to be clicked\u001b[39;00m\n\u001b[1;32m----> 3\u001b[0m     Track \u001b[38;5;241m=\u001b[39m \u001b[43mWebDriverWait\u001b[49m\u001b[43m(\u001b[49m\u001b[43mdriver\u001b[49m\u001b[43m,\u001b[49m\u001b[38;5;241;43m0.5\u001b[39;49m\u001b[43m)\u001b[49m\u001b[38;5;241;43m.\u001b[39;49m\u001b[43muntil\u001b[49m\u001b[43m(\u001b[49m\u001b[43mEC\u001b[49m\u001b[38;5;241;43m.\u001b[39;49m\u001b[43mpresence_of_element_located\u001b[49m\u001b[43m(\u001b[49m\u001b[43m(\u001b[49m\u001b[43mBy\u001b[49m\u001b[38;5;241;43m.\u001b[39;49m\u001b[43mLINK_TEXT\u001b[49m\u001b[43m,\u001b[49m\u001b[38;5;124;43m'\u001b[39;49m\u001b[38;5;124;43mTrack this post\u001b[39;49m\u001b[38;5;124;43m'\u001b[39;49m\u001b[43m)\u001b[49m\u001b[43m)\u001b[49m\u001b[43m)\u001b[49m\n\u001b[0;32m      4\u001b[0m     \u001b[38;5;66;03m# scroll user into view\u001b[39;00m\n\u001b[0;32m      5\u001b[0m     Track\u001b[38;5;241m.\u001b[39mlocation_once_scrolled_into_view\n",
      "File \u001b[1;32m~\\anaconda3\\lib\\site-packages\\selenium\\webdriver\\support\\wait.py:90\u001b[0m, in \u001b[0;36mWebDriverWait.until\u001b[1;34m(self, method, message)\u001b[0m\n\u001b[0;32m     88\u001b[0m     \u001b[38;5;28;01mif\u001b[39;00m time\u001b[38;5;241m.\u001b[39mmonotonic() \u001b[38;5;241m>\u001b[39m end_time:\n\u001b[0;32m     89\u001b[0m         \u001b[38;5;28;01mbreak\u001b[39;00m\n\u001b[1;32m---> 90\u001b[0m \u001b[38;5;28;01mraise\u001b[39;00m TimeoutException(message, screen, stacktrace)\n",
      "\u001b[1;31mTimeoutException\u001b[0m: Message: \nStacktrace:\nBacktrace:\n\tOrdinal0 [0x00BD1ED3+2236115]\n\tOrdinal0 [0x00B692F1+1807089]\n\tOrdinal0 [0x00A766FD+812797]\n\tOrdinal0 [0x00AA55DF+1005023]\n\tOrdinal0 [0x00AA57CB+1005515]\n\tOrdinal0 [0x00AD7632+1209906]\n\tOrdinal0 [0x00AC1AD4+1120980]\n\tOrdinal0 [0x00AD59E2+1202658]\n\tOrdinal0 [0x00AC18A6+1120422]\n\tOrdinal0 [0x00A9A73D+960317]\n\tOrdinal0 [0x00A9B71F+964383]\n\tGetHandleVerifier [0x00E7E7E2+2743074]\n\tGetHandleVerifier [0x00E708D4+2685972]\n\tGetHandleVerifier [0x00C62BAA+532202]\n\tGetHandleVerifier [0x00C61990+527568]\n\tOrdinal0 [0x00B7080C+1837068]\n\tOrdinal0 [0x00B74CD8+1854680]\n\tOrdinal0 [0x00B74DC5+1854917]\n\tOrdinal0 [0x00B7ED64+1895780]\n\tBaseThreadInitThunk [0x758FFA29+25]\n\tRtlGetAppContainerNamedObjectPath [0x77387BBE+286]\n\tRtlGetAppContainerNamedObjectPath [0x77387B8E+238]\n"
     ]
    }
   ],
   "source": [
    "for clickNum in range(1,120):\n",
    "    # this below explicit wait will make sure the script will wait max 30 sec for the next user to be clicked\n",
    "    Track = WebDriverWait(driver,0.5).until(EC.presence_of_element_located((By.LINK_TEXT,'Track this post')))\n",
    "    # scroll user into view\n",
    "    Track.location_once_scrolled_into_view\n",
    "    # click on user\n",
    "    driver.execute_script(\"arguments[0].click();\", Track)"
   ]
  },
  {
   "cell_type": "markdown",
   "id": "8b39576c",
   "metadata": {},
   "source": [
    "Search GMM25"
   ]
  },
  {
   "cell_type": "code",
   "execution_count": 28,
   "id": "16abd6a7",
   "metadata": {},
   "outputs": [],
   "source": [
    "driver.get('https://zocialeye.wisesight.com/campaigns')"
   ]
  },
  {
   "cell_type": "code",
   "execution_count": 29,
   "id": "06ea249b",
   "metadata": {},
   "outputs": [],
   "source": [
    "Search = driver.find_element(By.XPATH,'/html/body/div/div[1]/div[19]/div[1]/div/form/input[1]')"
   ]
  },
  {
   "cell_type": "code",
   "execution_count": 30,
   "id": "15d56daf",
   "metadata": {},
   "outputs": [],
   "source": [
    "Search.send_keys('GoodOldDays')"
   ]
  },
  {
   "cell_type": "code",
   "execution_count": 31,
   "id": "349a541a",
   "metadata": {},
   "outputs": [],
   "source": [
    "Search.send_keys(Keys.ENTER)"
   ]
  },
  {
   "cell_type": "code",
   "execution_count": 32,
   "id": "dbba7457",
   "metadata": {},
   "outputs": [],
   "source": [
    "ClickCamp = driver.find_element(By.XPATH,'/html/body/div/div[1]/div[19]/div[2]/table/tbody/tr/td[2]/a').click()"
   ]
  },
  {
   "cell_type": "code",
   "execution_count": 43,
   "id": "a278166d",
   "metadata": {},
   "outputs": [
    {
     "name": "stdout",
     "output_type": "stream",
     "text": [
      "30\n"
     ]
    }
   ],
   "source": [
    "Content = len(driver.find_elements(By.LINK_TEXT,'Track this post'))\n",
    "print(Content)"
   ]
  },
  {
   "cell_type": "code",
   "execution_count": 35,
   "id": "3c272694",
   "metadata": {},
   "outputs": [
    {
     "ename": "TimeoutException",
     "evalue": "Message: \nStacktrace:\nBacktrace:\n\tOrdinal0 [0x00BD1ED3+2236115]\n\tOrdinal0 [0x00B692F1+1807089]\n\tOrdinal0 [0x00A766FD+812797]\n\tOrdinal0 [0x00AA55DF+1005023]\n\tOrdinal0 [0x00AA57CB+1005515]\n\tOrdinal0 [0x00AD7632+1209906]\n\tOrdinal0 [0x00AC1AD4+1120980]\n\tOrdinal0 [0x00AD59E2+1202658]\n\tOrdinal0 [0x00AC18A6+1120422]\n\tOrdinal0 [0x00A9A73D+960317]\n\tOrdinal0 [0x00A9B71F+964383]\n\tGetHandleVerifier [0x00E7E7E2+2743074]\n\tGetHandleVerifier [0x00E708D4+2685972]\n\tGetHandleVerifier [0x00C62BAA+532202]\n\tGetHandleVerifier [0x00C61990+527568]\n\tOrdinal0 [0x00B7080C+1837068]\n\tOrdinal0 [0x00B74CD8+1854680]\n\tOrdinal0 [0x00B74DC5+1854917]\n\tOrdinal0 [0x00B7ED64+1895780]\n\tBaseThreadInitThunk [0x758FFA29+25]\n\tRtlGetAppContainerNamedObjectPath [0x77387BBE+286]\n\tRtlGetAppContainerNamedObjectPath [0x77387B8E+238]\n",
     "output_type": "error",
     "traceback": [
      "\u001b[1;31m---------------------------------------------------------------------------\u001b[0m",
      "\u001b[1;31mTimeoutException\u001b[0m                          Traceback (most recent call last)",
      "Input \u001b[1;32mIn [35]\u001b[0m, in \u001b[0;36m<cell line: 1>\u001b[1;34m()\u001b[0m\n\u001b[0;32m      1\u001b[0m \u001b[38;5;28;01mfor\u001b[39;00m clickNum \u001b[38;5;129;01min\u001b[39;00m \u001b[38;5;28mrange\u001b[39m(\u001b[38;5;241m1\u001b[39m,\u001b[38;5;241m120\u001b[39m):\n\u001b[0;32m      2\u001b[0m     \u001b[38;5;66;03m# this below explicit wait will make sure the script will wait max 30 sec for the next user to be clicked\u001b[39;00m\n\u001b[1;32m----> 3\u001b[0m     Track \u001b[38;5;241m=\u001b[39m \u001b[43mWebDriverWait\u001b[49m\u001b[43m(\u001b[49m\u001b[43mdriver\u001b[49m\u001b[43m,\u001b[49m\u001b[38;5;241;43m0.5\u001b[39;49m\u001b[43m)\u001b[49m\u001b[38;5;241;43m.\u001b[39;49m\u001b[43muntil\u001b[49m\u001b[43m(\u001b[49m\u001b[43mEC\u001b[49m\u001b[38;5;241;43m.\u001b[39;49m\u001b[43mpresence_of_element_located\u001b[49m\u001b[43m(\u001b[49m\u001b[43m(\u001b[49m\u001b[43mBy\u001b[49m\u001b[38;5;241;43m.\u001b[39;49m\u001b[43mLINK_TEXT\u001b[49m\u001b[43m,\u001b[49m\u001b[38;5;124;43m'\u001b[39;49m\u001b[38;5;124;43mTrack this post\u001b[39;49m\u001b[38;5;124;43m'\u001b[39;49m\u001b[43m)\u001b[49m\u001b[43m)\u001b[49m\u001b[43m)\u001b[49m\n\u001b[0;32m      4\u001b[0m     \u001b[38;5;66;03m# scroll user into view\u001b[39;00m\n\u001b[0;32m      5\u001b[0m     Track\u001b[38;5;241m.\u001b[39mlocation_once_scrolled_into_view\n",
      "File \u001b[1;32m~\\anaconda3\\lib\\site-packages\\selenium\\webdriver\\support\\wait.py:90\u001b[0m, in \u001b[0;36mWebDriverWait.until\u001b[1;34m(self, method, message)\u001b[0m\n\u001b[0;32m     88\u001b[0m     \u001b[38;5;28;01mif\u001b[39;00m time\u001b[38;5;241m.\u001b[39mmonotonic() \u001b[38;5;241m>\u001b[39m end_time:\n\u001b[0;32m     89\u001b[0m         \u001b[38;5;28;01mbreak\u001b[39;00m\n\u001b[1;32m---> 90\u001b[0m \u001b[38;5;28;01mraise\u001b[39;00m TimeoutException(message, screen, stacktrace)\n",
      "\u001b[1;31mTimeoutException\u001b[0m: Message: \nStacktrace:\nBacktrace:\n\tOrdinal0 [0x00BD1ED3+2236115]\n\tOrdinal0 [0x00B692F1+1807089]\n\tOrdinal0 [0x00A766FD+812797]\n\tOrdinal0 [0x00AA55DF+1005023]\n\tOrdinal0 [0x00AA57CB+1005515]\n\tOrdinal0 [0x00AD7632+1209906]\n\tOrdinal0 [0x00AC1AD4+1120980]\n\tOrdinal0 [0x00AD59E2+1202658]\n\tOrdinal0 [0x00AC18A6+1120422]\n\tOrdinal0 [0x00A9A73D+960317]\n\tOrdinal0 [0x00A9B71F+964383]\n\tGetHandleVerifier [0x00E7E7E2+2743074]\n\tGetHandleVerifier [0x00E708D4+2685972]\n\tGetHandleVerifier [0x00C62BAA+532202]\n\tGetHandleVerifier [0x00C61990+527568]\n\tOrdinal0 [0x00B7080C+1837068]\n\tOrdinal0 [0x00B74CD8+1854680]\n\tOrdinal0 [0x00B74DC5+1854917]\n\tOrdinal0 [0x00B7ED64+1895780]\n\tBaseThreadInitThunk [0x758FFA29+25]\n\tRtlGetAppContainerNamedObjectPath [0x77387BBE+286]\n\tRtlGetAppContainerNamedObjectPath [0x77387B8E+238]\n"
     ]
    }
   ],
   "source": [
    "for clickNum in range(1,120):\n",
    "    # this below explicit wait will make sure the script will wait max 30 sec for the next user to be clicked\n",
    "    Track = WebDriverWait(driver,0.5).until(EC.presence_of_element_located((By.LINK_TEXT,'Track this post')))\n",
    "    # scroll user into view\n",
    "    Track.location_once_scrolled_into_view\n",
    "    # click on user\n",
    "    driver.execute_script(\"arguments[0].click();\", Track)"
   ]
  },
  {
   "cell_type": "markdown",
   "id": "610be2ae",
   "metadata": {},
   "source": [
    "Search Ch7"
   ]
  },
  {
   "cell_type": "code",
   "execution_count": 36,
   "id": "8fc2420f",
   "metadata": {},
   "outputs": [],
   "source": [
    "driver.get('https://zocialeye.wisesight.com/campaigns')"
   ]
  },
  {
   "cell_type": "code",
   "execution_count": 37,
   "id": "7ce6a361",
   "metadata": {},
   "outputs": [],
   "source": [
    "Search = driver.find_element(By.XPATH,'/html/body/div/div[1]/div[19]/div[1]/div/form/input[1]')"
   ]
  },
  {
   "cell_type": "code",
   "execution_count": 38,
   "id": "266fe720",
   "metadata": {},
   "outputs": [],
   "source": [
    "Search.send_keys('56545')"
   ]
  },
  {
   "cell_type": "code",
   "execution_count": 39,
   "id": "acc4e0cb",
   "metadata": {},
   "outputs": [],
   "source": [
    "Search.send_keys(Keys.ENTER)"
   ]
  },
  {
   "cell_type": "code",
   "execution_count": 40,
   "id": "65f24054",
   "metadata": {},
   "outputs": [],
   "source": [
    "ClickCamp = driver.find_element(By.XPATH,'/html/body/div/div[1]/div[19]/div[2]/table/tbody/tr/td[2]/a').click()"
   ]
  },
  {
   "cell_type": "code",
   "execution_count": 107,
   "id": "15df4eda",
   "metadata": {},
   "outputs": [
    {
     "name": "stdout",
     "output_type": "stream",
     "text": [
      "50\n"
     ]
    }
   ],
   "source": [
    "Content = len(driver.find_elements(By.LINK_TEXT,'Track this post'))\n",
    "print(Content)"
   ]
  },
  {
   "cell_type": "code",
   "execution_count": 44,
   "id": "4d9e7df1",
   "metadata": {
    "scrolled": true
   },
   "outputs": [
    {
     "ename": "TimeoutException",
     "evalue": "Message: \nStacktrace:\nBacktrace:\n\tOrdinal0 [0x00BD1ED3+2236115]\n\tOrdinal0 [0x00B692F1+1807089]\n\tOrdinal0 [0x00A766FD+812797]\n\tOrdinal0 [0x00AA55DF+1005023]\n\tOrdinal0 [0x00AA57CB+1005515]\n\tOrdinal0 [0x00AD7632+1209906]\n\tOrdinal0 [0x00AC1AD4+1120980]\n\tOrdinal0 [0x00AD59E2+1202658]\n\tOrdinal0 [0x00AC18A6+1120422]\n\tOrdinal0 [0x00A9A73D+960317]\n\tOrdinal0 [0x00A9B71F+964383]\n\tGetHandleVerifier [0x00E7E7E2+2743074]\n\tGetHandleVerifier [0x00E708D4+2685972]\n\tGetHandleVerifier [0x00C62BAA+532202]\n\tGetHandleVerifier [0x00C61990+527568]\n\tOrdinal0 [0x00B7080C+1837068]\n\tOrdinal0 [0x00B74CD8+1854680]\n\tOrdinal0 [0x00B74DC5+1854917]\n\tOrdinal0 [0x00B7ED64+1895780]\n\tBaseThreadInitThunk [0x758FFA29+25]\n\tRtlGetAppContainerNamedObjectPath [0x77387BBE+286]\n\tRtlGetAppContainerNamedObjectPath [0x77387B8E+238]\n",
     "output_type": "error",
     "traceback": [
      "\u001b[1;31m---------------------------------------------------------------------------\u001b[0m",
      "\u001b[1;31mTimeoutException\u001b[0m                          Traceback (most recent call last)",
      "Input \u001b[1;32mIn [44]\u001b[0m, in \u001b[0;36m<cell line: 1>\u001b[1;34m()\u001b[0m\n\u001b[0;32m      1\u001b[0m \u001b[38;5;28;01mfor\u001b[39;00m clickNum \u001b[38;5;129;01min\u001b[39;00m \u001b[38;5;28mrange\u001b[39m(\u001b[38;5;241m1\u001b[39m,\u001b[38;5;241m120\u001b[39m):\n\u001b[0;32m      2\u001b[0m     \u001b[38;5;66;03m# this below explicit wait will make sure the script will wait max 30 sec for the next user to be clicked\u001b[39;00m\n\u001b[1;32m----> 3\u001b[0m     Track \u001b[38;5;241m=\u001b[39m \u001b[43mWebDriverWait\u001b[49m\u001b[43m(\u001b[49m\u001b[43mdriver\u001b[49m\u001b[43m,\u001b[49m\u001b[38;5;241;43m0.5\u001b[39;49m\u001b[43m)\u001b[49m\u001b[38;5;241;43m.\u001b[39;49m\u001b[43muntil\u001b[49m\u001b[43m(\u001b[49m\u001b[43mEC\u001b[49m\u001b[38;5;241;43m.\u001b[39;49m\u001b[43mpresence_of_element_located\u001b[49m\u001b[43m(\u001b[49m\u001b[43m(\u001b[49m\u001b[43mBy\u001b[49m\u001b[38;5;241;43m.\u001b[39;49m\u001b[43mLINK_TEXT\u001b[49m\u001b[43m,\u001b[49m\u001b[38;5;124;43m'\u001b[39;49m\u001b[38;5;124;43mTrack this post\u001b[39;49m\u001b[38;5;124;43m'\u001b[39;49m\u001b[43m)\u001b[49m\u001b[43m)\u001b[49m\u001b[43m)\u001b[49m\n\u001b[0;32m      4\u001b[0m     \u001b[38;5;66;03m# scroll user into view\u001b[39;00m\n\u001b[0;32m      5\u001b[0m     Track\u001b[38;5;241m.\u001b[39mlocation_once_scrolled_into_view\n",
      "File \u001b[1;32m~\\anaconda3\\lib\\site-packages\\selenium\\webdriver\\support\\wait.py:90\u001b[0m, in \u001b[0;36mWebDriverWait.until\u001b[1;34m(self, method, message)\u001b[0m\n\u001b[0;32m     88\u001b[0m     \u001b[38;5;28;01mif\u001b[39;00m time\u001b[38;5;241m.\u001b[39mmonotonic() \u001b[38;5;241m>\u001b[39m end_time:\n\u001b[0;32m     89\u001b[0m         \u001b[38;5;28;01mbreak\u001b[39;00m\n\u001b[1;32m---> 90\u001b[0m \u001b[38;5;28;01mraise\u001b[39;00m TimeoutException(message, screen, stacktrace)\n",
      "\u001b[1;31mTimeoutException\u001b[0m: Message: \nStacktrace:\nBacktrace:\n\tOrdinal0 [0x00BD1ED3+2236115]\n\tOrdinal0 [0x00B692F1+1807089]\n\tOrdinal0 [0x00A766FD+812797]\n\tOrdinal0 [0x00AA55DF+1005023]\n\tOrdinal0 [0x00AA57CB+1005515]\n\tOrdinal0 [0x00AD7632+1209906]\n\tOrdinal0 [0x00AC1AD4+1120980]\n\tOrdinal0 [0x00AD59E2+1202658]\n\tOrdinal0 [0x00AC18A6+1120422]\n\tOrdinal0 [0x00A9A73D+960317]\n\tOrdinal0 [0x00A9B71F+964383]\n\tGetHandleVerifier [0x00E7E7E2+2743074]\n\tGetHandleVerifier [0x00E708D4+2685972]\n\tGetHandleVerifier [0x00C62BAA+532202]\n\tGetHandleVerifier [0x00C61990+527568]\n\tOrdinal0 [0x00B7080C+1837068]\n\tOrdinal0 [0x00B74CD8+1854680]\n\tOrdinal0 [0x00B74DC5+1854917]\n\tOrdinal0 [0x00B7ED64+1895780]\n\tBaseThreadInitThunk [0x758FFA29+25]\n\tRtlGetAppContainerNamedObjectPath [0x77387BBE+286]\n\tRtlGetAppContainerNamedObjectPath [0x77387B8E+238]\n"
     ]
    }
   ],
   "source": [
    "for clickNum in range(1,120):\n",
    "    # this below explicit wait will make sure the script will wait max 30 sec for the next user to be clicked\n",
    "    Track = WebDriverWait(driver,0.5).until(EC.presence_of_element_located((By.LINK_TEXT,'Track this post')))\n",
    "    # scroll user into view\n",
    "    Track.location_once_scrolled_into_view\n",
    "    # click on user\n",
    "    driver.execute_script(\"arguments[0].click();\", Track)"
   ]
  },
  {
   "cell_type": "markdown",
   "id": "64847bdf",
   "metadata": {},
   "source": [
    "Search Ch31"
   ]
  },
  {
   "cell_type": "code",
   "execution_count": 45,
   "id": "56ef2529",
   "metadata": {},
   "outputs": [],
   "source": [
    "driver.get('https://zocialeye.wisesight.com/campaigns')"
   ]
  },
  {
   "cell_type": "code",
   "execution_count": 46,
   "id": "f8e64ad6",
   "metadata": {},
   "outputs": [],
   "source": [
    "Search = driver.find_element(By.XPATH,'/html/body/div/div[1]/div[19]/div[1]/div/form/input[1]')"
   ]
  },
  {
   "cell_type": "code",
   "execution_count": 47,
   "id": "a6eeaaac",
   "metadata": {},
   "outputs": [],
   "source": [
    "Search.send_keys('เลือดข้นคนจาง')"
   ]
  },
  {
   "cell_type": "code",
   "execution_count": 48,
   "id": "61867e6a",
   "metadata": {},
   "outputs": [],
   "source": [
    "Search.send_keys(Keys.ENTER)"
   ]
  },
  {
   "cell_type": "code",
   "execution_count": 49,
   "id": "52a233c2",
   "metadata": {},
   "outputs": [],
   "source": [
    "ClickCamp = driver.find_element(By.XPATH,'/html/body/div/div[1]/div[19]/div[2]/table/tbody/tr/td[2]/a').click()"
   ]
  },
  {
   "cell_type": "code",
   "execution_count": 50,
   "id": "7cd9b2c9",
   "metadata": {},
   "outputs": [
    {
     "name": "stdout",
     "output_type": "stream",
     "text": [
      "16\n"
     ]
    }
   ],
   "source": [
    "Content = len(driver.find_elements(By.LINK_TEXT,'Track this post'))\n",
    "print(Content)"
   ]
  },
  {
   "cell_type": "code",
   "execution_count": 52,
   "id": "c6ba908f",
   "metadata": {
    "scrolled": true
   },
   "outputs": [
    {
     "ename": "TimeoutException",
     "evalue": "Message: \nStacktrace:\nBacktrace:\n\tOrdinal0 [0x00BD1ED3+2236115]\n\tOrdinal0 [0x00B692F1+1807089]\n\tOrdinal0 [0x00A766FD+812797]\n\tOrdinal0 [0x00AA55DF+1005023]\n\tOrdinal0 [0x00AA57CB+1005515]\n\tOrdinal0 [0x00AD7632+1209906]\n\tOrdinal0 [0x00AC1AD4+1120980]\n\tOrdinal0 [0x00AD59E2+1202658]\n\tOrdinal0 [0x00AC18A6+1120422]\n\tOrdinal0 [0x00A9A73D+960317]\n\tOrdinal0 [0x00A9B71F+964383]\n\tGetHandleVerifier [0x00E7E7E2+2743074]\n\tGetHandleVerifier [0x00E708D4+2685972]\n\tGetHandleVerifier [0x00C62BAA+532202]\n\tGetHandleVerifier [0x00C61990+527568]\n\tOrdinal0 [0x00B7080C+1837068]\n\tOrdinal0 [0x00B74CD8+1854680]\n\tOrdinal0 [0x00B74DC5+1854917]\n\tOrdinal0 [0x00B7ED64+1895780]\n\tBaseThreadInitThunk [0x758FFA29+25]\n\tRtlGetAppContainerNamedObjectPath [0x77387BBE+286]\n\tRtlGetAppContainerNamedObjectPath [0x77387B8E+238]\n",
     "output_type": "error",
     "traceback": [
      "\u001b[1;31m---------------------------------------------------------------------------\u001b[0m",
      "\u001b[1;31mTimeoutException\u001b[0m                          Traceback (most recent call last)",
      "Input \u001b[1;32mIn [52]\u001b[0m, in \u001b[0;36m<cell line: 1>\u001b[1;34m()\u001b[0m\n\u001b[0;32m      1\u001b[0m \u001b[38;5;28;01mfor\u001b[39;00m clickNum \u001b[38;5;129;01min\u001b[39;00m \u001b[38;5;28mrange\u001b[39m(\u001b[38;5;241m1\u001b[39m,\u001b[38;5;241m120\u001b[39m):\n\u001b[0;32m      2\u001b[0m     \u001b[38;5;66;03m# this below explicit wait will make sure the script will wait max 30 sec for the next user to be clicked\u001b[39;00m\n\u001b[1;32m----> 3\u001b[0m     Track \u001b[38;5;241m=\u001b[39m \u001b[43mWebDriverWait\u001b[49m\u001b[43m(\u001b[49m\u001b[43mdriver\u001b[49m\u001b[43m,\u001b[49m\u001b[38;5;241;43m0.5\u001b[39;49m\u001b[43m)\u001b[49m\u001b[38;5;241;43m.\u001b[39;49m\u001b[43muntil\u001b[49m\u001b[43m(\u001b[49m\u001b[43mEC\u001b[49m\u001b[38;5;241;43m.\u001b[39;49m\u001b[43mpresence_of_element_located\u001b[49m\u001b[43m(\u001b[49m\u001b[43m(\u001b[49m\u001b[43mBy\u001b[49m\u001b[38;5;241;43m.\u001b[39;49m\u001b[43mLINK_TEXT\u001b[49m\u001b[43m,\u001b[49m\u001b[38;5;124;43m'\u001b[39;49m\u001b[38;5;124;43mTrack this post\u001b[39;49m\u001b[38;5;124;43m'\u001b[39;49m\u001b[43m)\u001b[49m\u001b[43m)\u001b[49m\u001b[43m)\u001b[49m\n\u001b[0;32m      4\u001b[0m     \u001b[38;5;66;03m# scroll user into view\u001b[39;00m\n\u001b[0;32m      5\u001b[0m     Track\u001b[38;5;241m.\u001b[39mlocation_once_scrolled_into_view\n",
      "File \u001b[1;32m~\\anaconda3\\lib\\site-packages\\selenium\\webdriver\\support\\wait.py:90\u001b[0m, in \u001b[0;36mWebDriverWait.until\u001b[1;34m(self, method, message)\u001b[0m\n\u001b[0;32m     88\u001b[0m     \u001b[38;5;28;01mif\u001b[39;00m time\u001b[38;5;241m.\u001b[39mmonotonic() \u001b[38;5;241m>\u001b[39m end_time:\n\u001b[0;32m     89\u001b[0m         \u001b[38;5;28;01mbreak\u001b[39;00m\n\u001b[1;32m---> 90\u001b[0m \u001b[38;5;28;01mraise\u001b[39;00m TimeoutException(message, screen, stacktrace)\n",
      "\u001b[1;31mTimeoutException\u001b[0m: Message: \nStacktrace:\nBacktrace:\n\tOrdinal0 [0x00BD1ED3+2236115]\n\tOrdinal0 [0x00B692F1+1807089]\n\tOrdinal0 [0x00A766FD+812797]\n\tOrdinal0 [0x00AA55DF+1005023]\n\tOrdinal0 [0x00AA57CB+1005515]\n\tOrdinal0 [0x00AD7632+1209906]\n\tOrdinal0 [0x00AC1AD4+1120980]\n\tOrdinal0 [0x00AD59E2+1202658]\n\tOrdinal0 [0x00AC18A6+1120422]\n\tOrdinal0 [0x00A9A73D+960317]\n\tOrdinal0 [0x00A9B71F+964383]\n\tGetHandleVerifier [0x00E7E7E2+2743074]\n\tGetHandleVerifier [0x00E708D4+2685972]\n\tGetHandleVerifier [0x00C62BAA+532202]\n\tGetHandleVerifier [0x00C61990+527568]\n\tOrdinal0 [0x00B7080C+1837068]\n\tOrdinal0 [0x00B74CD8+1854680]\n\tOrdinal0 [0x00B74DC5+1854917]\n\tOrdinal0 [0x00B7ED64+1895780]\n\tBaseThreadInitThunk [0x758FFA29+25]\n\tRtlGetAppContainerNamedObjectPath [0x77387BBE+286]\n\tRtlGetAppContainerNamedObjectPath [0x77387B8E+238]\n"
     ]
    }
   ],
   "source": [
    "for clickNum in range(1,120):\n",
    "    # this below explicit wait will make sure the script will wait max 30 sec for the next user to be clicked\n",
    "    Track = WebDriverWait(driver,0.5).until(EC.presence_of_element_located((By.LINK_TEXT,'Track this post')))\n",
    "    # scroll user into view\n",
    "    Track.location_once_scrolled_into_view\n",
    "    # click on user\n",
    "    driver.execute_script(\"arguments[0].click();\", Track)"
   ]
  },
  {
   "cell_type": "markdown",
   "id": "284968fb",
   "metadata": {},
   "source": []
  }
 ],
 "metadata": {
  "kernelspec": {
   "display_name": "Python 3 (ipykernel)",
   "language": "python",
   "name": "python3"
  },
  "language_info": {
   "codemirror_mode": {
    "name": "ipython",
    "version": 3
   },
   "file_extension": ".py",
   "mimetype": "text/x-python",
   "name": "python",
   "nbconvert_exporter": "python",
   "pygments_lexer": "ipython3",
   "version": "3.9.13"
  }
 },
 "nbformat": 4,
 "nbformat_minor": 5
}
